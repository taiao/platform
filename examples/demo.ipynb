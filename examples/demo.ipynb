{
 "cells": [
  {
   "cell_type": "code",
   "execution_count": 1,
   "id": "2d1253d9-84dd-4d4d-9b29-6ddbed3efacb",
   "metadata": {},
   "outputs": [
    {
     "name": "stdout",
     "output_type": "stream",
     "text": [
      "Requirement already satisfied: kafka-python in /opt/conda/lib/python3.10/site-packages (2.0.2)\n"
     ]
    }
   ],
   "source": [
    "# install nessesary packages\n",
    "!pip install kafka-python"
   ]
  },
  {
   "cell_type": "code",
   "execution_count": 2,
   "id": "0ff776d5-c14a-4306-9bd5-bf23dafc5c31",
   "metadata": {},
   "outputs": [],
   "source": [
    "import os\n",
    "from kafka import KafkaConsumer\n",
    "from kafka import KafkaAdminClient"
   ]
  },
  {
   "cell_type": "code",
   "execution_count": 3,
   "id": "29c1c30c-4d92-4126-ad66-26b2e9b79f46",
   "metadata": {},
   "outputs": [
    {
     "name": "stdout",
     "output_type": "stream",
     "text": [
      "SHELL => /bin/bash\n",
      "NV_LIBCUBLAS_VERSION => 11.9.2.110-1\n",
      "NVIDIA_VISIBLE_DEVICES => all\n",
      "KUBERNETES_SERVICE_PORT_HTTPS => 443\n",
      "TAIAO_KAFKA_SERVICE_PORT_TCP_CLIENT => 9092\n",
      "TAIAO_ZOOKEEPER_PORT_3888_TCP => tcp://10.24.12.158:3888\n",
      "TAIAO_KAFKA_SERVICE_PORT => 9092\n",
      "NV_CUDNN_PACKAGE_NAME => libcudnn8\n",
      "JUPYTERHUB_ADMIN_ACCESS => 1\n",
      "KUBERNETES_SERVICE_PORT => 443\n",
      "PROXY_API_SERVICE_HOST => 10.24.14.249\n",
      "JUPYTERHUB_SERVICE_URL => http://0.0.0.0:8888/user/justinuliu/\n",
      "TAIAO_ZOOKEEPER_PORT_3888_TCP_ADDR => 10.24.12.158\n",
      "MERCURY_BACKEND_PORT_8000_TCP_PORT => 8000\n",
      "HOSTNAME => jupyter-justinuliu\n",
      "LANGUAGE => en_US.UTF-8\n",
      "JUPYTERHUB_API_TOKEN => 558d4f83bf5b48acb5cd0d5748e6a46a\n",
      "NVIDIA_REQUIRE_CUDA => cuda>=11.6 brand=tesla,driver>=418,driver<419 brand=tesla,driver>=450,driver<451 brand=tesla,driver>=470,driver<471 brand=unknown,driver>=470,driver<471 brand=nvidia,driver>=470,driver<471 brand=nvidiartx,driver>=470,driver<471 brand=quadrortx,driver>=470,driver<471\n",
      "PROXY_API_SERVICE_PORT => 8001\n",
      "TAIAO_ZOOKEEPER_PORT => tcp://10.24.12.158:2181\n",
      "NV_NVTX_VERSION => 11.6.124-1\n",
      "TAIAO_KAFKA_PORT => tcp://10.24.11.124:9092\n",
      "JUPYTERHUB_BASE_URL => /\n",
      "NB_UID => 1000\n",
      "TAIAO_ZOOKEEPER_PORT_2888_TCP_PORT => 2888\n",
      "TAIAO_PORT_80_TCP_ADDR => 10.24.0.229\n",
      "MERCURY_BACKEND_PORT_8000_TCP_ADDR => 10.24.13.82\n",
      "NV_LIBCUSPARSE_VERSION => 11.7.2.124-1\n",
      "MERCURY_FRONTEND_PORT_80_TCP_PROTO => tcp\n",
      "NV_LIBNPP_VERSION => 11.6.3.124-1\n",
      "DB_PORT_5432_TCP_ADDR => 10.24.7.242\n",
      "JULIA_PKGDIR => /opt/julia\n",
      "MEM_LIMIT => 34359738368\n",
      "NCCL_VERSION => 2.12.10-1\n",
      "PROXY_PUBLIC_PORT_80_TCP => tcp://10.24.11.13:80\n",
      "TAIAO_ZOOKEEPER_SERVICE_HOST => 10.24.12.158\n",
      "PROXY_PUBLIC_PORT => tcp://10.24.11.13:80\n",
      "PROXY_PUBLIC_SERVICE_PORT_HTTP => 80\n",
      "PWD => /home/jovyan\n",
      "MERCURY_FRONTEND_SERVICE_HOST => 10.24.14.110\n",
      "NV_CUDNN_PACKAGE => libcudnn8=8.4.0.27-1+cuda11.6\n",
      "TAIAO_SERVICE_HOST => 10.24.0.229\n",
      "NVIDIA_DRIVER_CAPABILITIES => compute,utility\n",
      "TAIAO_KAFKA_PORT_9092_TCP_PORT => 9092\n",
      "MEM_GUARANTEE => 17179869184\n",
      "TAIAO_ZOOKEEPER_PORT_2888_TCP_ADDR => 10.24.12.158\n",
      "TAIAO_ZOOKEEPER_PORT_2888_TCP_PROTO => tcp\n",
      "NV_LIBNPP_PACKAGE => libnpp-11-6=11.6.3.124-1\n",
      "MERCURY_FRONTEND_SERVICE_PORT_MERCURY_FRONTEND_PUBLIC => 80\n",
      "JUPYTER_IMAGE => cschranz/gpu-jupyter:v1.4_cuda-11.6_ubuntu-20.04\n",
      "MERCURY_FRONTEND_SERVICE_PORT => 80\n",
      "PROXY_API_PORT_8001_TCP_ADDR => 10.24.14.249\n",
      "HUB_SERVICE_HOST => 10.24.14.227\n",
      "DB_PORT => tcp://10.24.7.242:5432\n",
      "MERCURY_BACKEND_PORT_8000_TCP => tcp://10.24.13.82:8000\n",
      "JUPYTERHUB_SERVER_NAME => \n",
      "TAIAO_ZOOKEEPER_SERVICE_PORT => 2181\n",
      "JUPYTERHUB_DEFAULT_URL => /lab\n",
      "NV_CUDA_CUDART_VERSION => 11.6.55-1\n",
      "TAIAO_KAFKA_SERVICE_HOST => 10.24.11.124\n",
      "MERCURY_BACKEND_PORT => tcp://10.24.13.82:8000\n",
      "HOME => /home/jovyan\n",
      "LANG => en_US.UTF-8\n",
      "KUBERNETES_PORT_443_TCP => tcp://10.24.0.1:443\n",
      "JPY_API_TOKEN => 558d4f83bf5b48acb5cd0d5748e6a46a\n",
      "TAIAO_ZOOKEEPER_PORT_2181_TCP_ADDR => 10.24.12.158\n",
      "PROXY_API_PORT_8001_TCP_PORT => 8001\n",
      "HUB_SERVICE_PORT => 8081\n",
      "TAIAO_KAFKA_PORT_9092_TCP_ADDR => 10.24.11.124\n",
      "CUDA_VERSION => 11.6.2\n",
      "NB_GID => 100\n",
      "NV_LIBCUBLAS_PACKAGE => libcublas-11-6=11.9.2.110-1\n",
      "DB_SERVICE_PORT_DB => 5432\n",
      "JUPYTERHUB_SERVICE_PREFIX => /user/justinuliu/\n",
      "MERCURY_BACKEND_PORT_8000_TCP_PROTO => tcp\n",
      "JUPYTERHUB_OAUTH_CALLBACK_URL => /user/justinuliu/oauth_callback\n",
      "TAIAO_ZOOKEEPER_PORT_2888_TCP => tcp://10.24.12.158:2888\n",
      "PROXY_PUBLIC_SERVICE_HOST => 10.24.11.13\n",
      "DB_SERVICE_PORT => 5432\n",
      "TAIAO_PORT_80_TCP => tcp://10.24.0.229:80\n",
      "JUPYTERHUB_SINGLEUSER_APP => jupyter_server.serverapp.ServerApp\n",
      "NV_LIBCUBLAS_PACKAGE_NAME => libcublas-11-6\n",
      "JULIA_VERSION => 1.7.3\n",
      "PROXY_PUBLIC_PORT_80_TCP_PROTO => tcp\n",
      "HUB_PORT => tcp://10.24.14.227:8081\n",
      "XDG_CACHE_HOME => /home/jovyan/.cache/\n",
      "DB_SERVICE_HOST => 10.24.7.242\n",
      "DB_PORT_5432_TCP => tcp://10.24.7.242:5432\n",
      "PROXY_PUBLIC_PORT_80_TCP_ADDR => 10.24.11.13\n",
      "JUPYTER_IMAGE_SPEC => cschranz/gpu-jupyter:v1.4_cuda-11.6_ubuntu-20.04\n",
      "HUB_PORT_8081_TCP => tcp://10.24.14.227:8081\n",
      "MERCURY_BACKEND_SERVICE_PORT => 8000\n",
      "TAIAO_ZOOKEEPER_PORT_3888_TCP_PROTO => tcp\n",
      "TAIAO_ZOOKEEPER_SERVICE_PORT_TCP_FOLLOWER => 2888\n",
      "PROXY_API_PORT => tcp://10.24.14.249:8001\n",
      "NV_CUDNN_VERSION => 8.4.0.27\n",
      "MERCURY_FRONTEND_PORT => tcp://10.24.14.110:80\n",
      "TAIAO_KAFKA_PORT_9092_TCP_PROTO => tcp\n",
      "PROXY_API_PORT_8001_TCP_PROTO => tcp\n",
      "SHLVL => 0\n",
      "CONDA_DIR => /opt/conda\n",
      "NV_CUDA_LIB_VERSION => 11.6.2-1\n",
      "NVARCH => x86_64\n",
      "KUBERNETES_PORT_443_TCP_PROTO => tcp\n",
      "JULIA_DEPOT_PATH => /opt/julia\n",
      "JUPYTERHUB_API_URL => http://hub:8081/hub/api\n",
      "TAIAO_ZOOKEEPER_PORT_2181_TCP_PORT => 2181\n",
      "JUPYTERHUB_CLIENT_ID => jupyterhub-user-justinuliu\n",
      "PROXY_PUBLIC_PORT_80_TCP_PORT => 80\n",
      "JUPYTERHUB_OAUTH_SCOPES => [\"access:servers!server=justinuliu/\", \"access:servers!user=justinuliu\"]\n",
      "KUBERNETES_PORT_443_TCP_ADDR => 10.24.0.1\n",
      "JUPYTERHUB_HOST => \n",
      "NV_CUDA_COMPAT_PACKAGE => cuda-compat-11-6\n",
      "MERCURY_FRONTEND_PORT_80_TCP => tcp://10.24.14.110:80\n",
      "DB_PORT_5432_TCP_PROTO => tcp\n",
      "NV_LIBNCCL_PACKAGE => libnccl2=2.12.10-1+cuda11.6\n",
      "LD_LIBRARY_PATH => /usr/local/nvidia/lib:/usr/local/nvidia/lib64\n",
      "HUB_SERVICE_PORT_HUB => 8081\n",
      "TAIAO_PORT => tcp://10.24.0.229:80\n",
      "MERCURY_BACKEND_SERVICE_PORT_MERCURY_BACKEND => 8000\n",
      "TAIAO_ZOOKEEPER_PORT_3888_TCP_PORT => 3888\n",
      "CPU_GUARANTEE => 1.0\n",
      "CPU_LIMIT => 2.0\n",
      "TAIAO_ZOOKEEPER_PORT_2181_TCP => tcp://10.24.12.158:2181\n",
      "MERCURY_FRONTEND_PORT_80_TCP_ADDR => 10.24.14.110\n",
      "NB_USER => jovyan\n",
      "KUBERNETES_SERVICE_HOST => 10.24.0.1\n",
      "DB_PORT_5432_TCP_PORT => 5432\n",
      "LC_ALL => en_US.UTF-8\n",
      "KUBERNETES_PORT => tcp://10.24.0.1:443\n",
      "KUBERNETES_PORT_443_TCP_PORT => 443\n",
      "PROXY_API_PORT_8001_TCP => tcp://10.24.14.249:8001\n",
      "PROXY_PUBLIC_SERVICE_PORT => 80\n",
      "TAIAO_PORT_80_TCP_PORT => 80\n",
      "HUB_PORT_8081_TCP_PORT => 8081\n",
      "TAIAO_KAFKA_PORT_9092_TCP => tcp://10.24.11.124:9092\n",
      "PATH => /opt/conda/bin:/usr/local/nvidia/bin:/usr/local/cuda/bin:/usr/local/sbin:/usr/local/bin:/usr/sbin:/usr/bin:/sbin:/bin\n",
      "TAIAO_ZOOKEEPER_SERVICE_PORT_TCP_CLIENT => 2181\n",
      "HUB_PORT_8081_TCP_ADDR => 10.24.14.227\n",
      "TAIAO_SERVICE_PORT_HTTP => 80\n",
      "MERCURY_BACKEND_SERVICE_HOST => 10.24.13.82\n",
      "NV_LIBNCCL_PACKAGE_NAME => libnccl2\n",
      "HUB_PORT_8081_TCP_PROTO => tcp\n",
      "NV_LIBNCCL_PACKAGE_VERSION => 2.12.10-1\n",
      "JUPYTERHUB_USER => justinuliu\n",
      "JUPYTERHUB_ACTIVITY_URL => http://hub:8081/hub/api/users/justinuliu/activity\n",
      "MERCURY_FRONTEND_PORT_80_TCP_PORT => 80\n",
      "DEBIAN_FRONTEND => noninteractive\n",
      "TAIAO_ZOOKEEPER_SERVICE_PORT_TCP_ELECTION => 3888\n",
      "TAIAO_PORT_80_TCP_PROTO => tcp\n",
      "TAIAO_SERVICE_PORT => 80\n",
      "TAIAO_ZOOKEEPER_PORT_2181_TCP_PROTO => tcp\n",
      "PYDEVD_USE_FRAME_EVAL => NO\n",
      "JPY_PARENT_PID => 7\n",
      "TERM => xterm-color\n",
      "CLICOLOR => 1\n",
      "PAGER => cat\n",
      "GIT_PAGER => cat\n",
      "MPLBACKEND => module://matplotlib_inline.backend_inline\n"
     ]
    }
   ],
   "source": [
    "# list environment variables\n",
    "for key in os.environ:\n",
    "    print(key, '=>', os.environ[key])"
   ]
  },
  {
   "cell_type": "code",
   "execution_count": 4,
   "id": "94c383e2-5247-4f75-8bb6-1d4b1aac3241",
   "metadata": {},
   "outputs": [
    {
     "name": "stdout",
     "output_type": "stream",
     "text": [
      "10.24.11.124:9092\n"
     ]
    }
   ],
   "source": [
    "# build kafka server address\n",
    "kafka_server_addr = f'{os.environ[\"TAIAO_KAFKA_SERVICE_HOST\"]}:{os.environ[\"TAIAO_KAFKA_SERVICE_PORT\"]}'\n",
    "print(kafka_server_addr)"
   ]
  },
  {
   "cell_type": "code",
   "execution_count": 5,
   "id": "34f033aa-28f7-4e55-8d00-b9d607bbdedb",
   "metadata": {},
   "outputs": [
    {
     "data": {
      "text/plain": [
       "['CLEAN_DATA',\n",
       " 'DENDROMETER_DATA',\n",
       " 'raw_data',\n",
       " 'SOIL_MOISTURE_DATA',\n",
       " 'SOIL_MATRIX_POTENTIAL_DATA',\n",
       " 'UNIQUE_DATA']"
      ]
     },
     "execution_count": 5,
     "metadata": {},
     "output_type": "execute_result"
    }
   ],
   "source": [
    "# list topics\n",
    "admin_client = KafkaAdminClient(bootstrap_servers=kafka_server_addr)\n",
    "admin_client.list_topics()"
   ]
  },
  {
   "cell_type": "code",
   "execution_count": 6,
   "id": "96c8d8a8-41ea-404b-b295-80dcab823afb",
   "metadata": {},
   "outputs": [
    {
     "name": "stdout",
     "output_type": "stream",
     "text": [
      "b'{\"TIMESTAMP\":\"2022-07-04T23:55:00.000Z\",\"DEVICE_ID\":249,\"SAMPLES_SINGLE\":{\"DEVICE\":\"06A19T004\",\"VALUE\":2.162},\"EXTERNAL_VOLTAGE\":0.0,\"INTERNAL_VOLTAGE\":6.843,\"TEMPERATURE\":3.1,\"RSSI\":-69.0,\"RECORD\":780}'\n",
      "b'{\"TIMESTAMP\":\"2022-07-04T23:55:00.000Z\",\"DEVICE_ID\":249,\"SAMPLES_SINGLE\":{\"DEVICE\":\"06A19D010\",\"VALUE\":0.198},\"EXTERNAL_VOLTAGE\":0.0,\"INTERNAL_VOLTAGE\":6.843,\"TEMPERATURE\":3.1,\"RSSI\":-69.0,\"RECORD\":780}'\n",
      "b'{\"TIMESTAMP\":\"2022-07-04T23:55:00.000Z\",\"DEVICE_ID\":249,\"SAMPLES_SINGLE\":{\"DEVICE\":\"06A19D030\",\"VALUE\":0.189},\"EXTERNAL_VOLTAGE\":0.0,\"INTERNAL_VOLTAGE\":6.843,\"TEMPERATURE\":3.1,\"RSSI\":-69.0,\"RECORD\":780}'\n",
      "b'{\"TIMESTAMP\":\"2022-07-04T23:55:00.000Z\",\"DEVICE_ID\":249,\"SAMPLES_SINGLE\":{\"DEVICE\":\"06A19D060\",\"VALUE\":0.18},\"EXTERNAL_VOLTAGE\":0.0,\"INTERNAL_VOLTAGE\":6.843,\"TEMPERATURE\":3.1,\"RSSI\":-69.0,\"RECORD\":780}'\n",
      "b'{\"TIMESTAMP\":\"2022-07-04T23:55:00.000Z\",\"DEVICE_ID\":249,\"SAMPLES_SINGLE\":{\"DEVICE\":\"06A19D100\",\"VALUE\":0.23},\"EXTERNAL_VOLTAGE\":0.0,\"INTERNAL_VOLTAGE\":6.843,\"TEMPERATURE\":3.1,\"RSSI\":-69.0,\"RECORD\":780}'\n",
      "b'{\"TIMESTAMP\":\"2022-08-04T00:00:00.000Z\",\"DEVICE_ID\":249,\"SAMPLES_SINGLE\":{\"DEVICE\":\"06A19T001\",\"VALUE\":2.251},\"EXTERNAL_VOLTAGE\":0.0,\"INTERNAL_VOLTAGE\":6.843,\"TEMPERATURE\":3.1,\"RSSI\":-63.0,\"RECORD\":781}'\n",
      "b'{\"TIMESTAMP\":\"2022-08-04T00:00:00.000Z\",\"DEVICE_ID\":249,\"SAMPLES_SINGLE\":{\"DEVICE\":\"06A19T002\",\"VALUE\":2.354},\"EXTERNAL_VOLTAGE\":0.0,\"INTERNAL_VOLTAGE\":6.843,\"TEMPERATURE\":3.1,\"RSSI\":-63.0,\"RECORD\":781}'\n",
      "b'{\"TIMESTAMP\":\"2022-08-04T00:00:00.000Z\",\"DEVICE_ID\":249,\"SAMPLES_SINGLE\":{\"DEVICE\":\"06A19T003\",\"VALUE\":2.238},\"EXTERNAL_VOLTAGE\":0.0,\"INTERNAL_VOLTAGE\":6.843,\"TEMPERATURE\":3.1,\"RSSI\":-63.0,\"RECORD\":781}'\n",
      "b'{\"TIMESTAMP\":\"2022-08-04T00:00:00.000Z\",\"DEVICE_ID\":249,\"SAMPLES_SINGLE\":{\"DEVICE\":\"06A19T004\",\"VALUE\":2.163},\"EXTERNAL_VOLTAGE\":0.0,\"INTERNAL_VOLTAGE\":6.843,\"TEMPERATURE\":3.1,\"RSSI\":-63.0,\"RECORD\":781}'\n",
      "b'{\"TIMESTAMP\":\"2022-08-04T00:00:00.000Z\",\"DEVICE_ID\":249,\"SAMPLES_SINGLE\":{\"DEVICE\":\"06A19D010\",\"VALUE\":0.198},\"EXTERNAL_VOLTAGE\":0.0,\"INTERNAL_VOLTAGE\":6.843,\"TEMPERATURE\":3.1,\"RSSI\":-63.0,\"RECORD\":781}'\n",
      "b'{\"TIMESTAMP\":\"2022-08-04T00:00:00.000Z\",\"DEVICE_ID\":249,\"SAMPLES_SINGLE\":{\"DEVICE\":\"06A19D030\",\"VALUE\":0.189},\"EXTERNAL_VOLTAGE\":0.0,\"INTERNAL_VOLTAGE\":6.843,\"TEMPERATURE\":3.1,\"RSSI\":-63.0,\"RECORD\":781}'\n",
      "b'{\"TIMESTAMP\":\"2022-08-04T00:00:00.000Z\",\"DEVICE_ID\":249,\"SAMPLES_SINGLE\":{\"DEVICE\":\"06A19D060\",\"VALUE\":0.18},\"EXTERNAL_VOLTAGE\":0.0,\"INTERNAL_VOLTAGE\":6.843,\"TEMPERATURE\":3.1,\"RSSI\":-63.0,\"RECORD\":781}'\n"
     ]
    }
   ],
   "source": [
    "# consume topic CLEAN_DATA from beginning\n",
    "consumer = KafkaConsumer('CLEAN_DATA', bootstrap_servers=kafka_server_addr, auto_offset_reset='earliest')\n",
    "for msg in consumer:\n",
    "    print(msg.value)\n",
    "    if msg.offset > 10: # break otherwise it will not stop\n",
    "        break"
   ]
  },
  {
   "cell_type": "code",
   "execution_count": null,
   "id": "7220ce51-aa4c-4caa-81e3-dd078cbc4ab3",
   "metadata": {},
   "outputs": [],
   "source": []
  }
 ],
 "metadata": {
  "kernelspec": {
   "display_name": "Python 3 (ipykernel)",
   "language": "python",
   "name": "python3"
  },
  "language_info": {
   "codemirror_mode": {
    "name": "ipython",
    "version": 3
   },
   "file_extension": ".py",
   "mimetype": "text/x-python",
   "name": "python",
   "nbconvert_exporter": "python",
   "pygments_lexer": "ipython3",
   "version": "3.10.5"
  }
 },
 "nbformat": 4,
 "nbformat_minor": 5
}
